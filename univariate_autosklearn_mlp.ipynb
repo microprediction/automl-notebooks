{
  "cells": [
    {
      "cell_type": "markdown",
      "metadata": {
        "id": "view-in-github",
        "colab_type": "text"
      },
      "source": [
        "<a href=\"https://colab.research.google.com/github/microprediction/automl-notebooks/blob/main/univariate_autosklearn_mlp.ipynb\" target=\"_parent\"><img src=\"https://colab.research.google.com/assets/colab-badge.svg\" alt=\"Open In Colab\"/></a>"
      ]
    },
    {
      "cell_type": "code",
      "execution_count": 1,
      "metadata": {
        "id": "UyR3ra6MmjI4",
        "colab": {
          "base_uri": "https://localhost:8080/"
        },
        "outputId": "37f9ad3b-38a4-46e9-a188-7310bed765ca"
      },
      "outputs": [
        {
          "output_type": "stream",
          "name": "stdout",
          "text": [
            "Found existing installation: numpy 1.21.6\n",
            "Uninstalling numpy-1.21.6:\n",
            "  Successfully uninstalled numpy-1.21.6\n"
          ]
        }
      ],
      "source": [
        "!pip uninstall numpy -y"
      ]
    },
    {
      "cell_type": "code",
      "source": [
        "!pip install auto-sklearn\n",
        "!pip install --upgrade pandas "
      ],
      "metadata": {
        "id": "Dnh9Fl0E9UgT"
      },
      "execution_count": null,
      "outputs": []
    },
    {
      "cell_type": "code",
      "source": [
        "import pandas as pd \n",
        "import numpy as np \n",
        "from pprint import pprint\n",
        "import sklearn.metrics\n",
        "import autosklearn.regression\n",
        "import matplotlib.pyplot as plt\n",
        "from sklearn.utils import shuffle\n",
        "import numpy as np\n",
        "from pprint import pprint"
      ],
      "metadata": {
        "id": "kTIRcyPl-z2W"
      },
      "execution_count": 1,
      "outputs": []
    },
    {
      "cell_type": "markdown",
      "metadata": {
        "id": "bBRDG2Xfq0i4"
      },
      "source": [
        "# Data to fit "
      ]
    },
    {
      "cell_type": "code",
      "execution_count": 2,
      "metadata": {
        "id": "e9y5FcAam12L"
      },
      "outputs": [],
      "source": [
        "url = 'https://github.com/microprediction/schooled/blob/main/localoutput/sarima/output/massaged.csv?raw=true'\n",
        "df = pd.read_csv(url)\n",
        "df.rename(inplace=True,columns={'y_next':'x'})"
      ]
    },
    {
      "cell_type": "code",
      "source": [
        "num_lags = 20\n",
        "x_cols = sorted([ c for c in df.columns if 'y_' in c ])[-num_lags:]\n",
        "y = (df['p1']- df['y_last']).values\n",
        "X = df[x_cols].values"
      ],
      "metadata": {
        "id": "eTuVslnqQvvV"
      },
      "execution_count": 46,
      "outputs": []
    },
    {
      "cell_type": "code",
      "execution_count": 47,
      "metadata": {
        "colab": {
          "base_uri": "https://localhost:8080/"
        },
        "id": "OmvWCQShmwpJ",
        "outputId": "93aa7052-8a8c-46f1-f092-ab6c6179664a"
      },
      "outputs": [
        {
          "output_type": "stream",
          "name": "stdout",
          "text": [
            "[WARNING] [2022-10-28 02:29:32,815:Client-EnsembleBuilder] No runs were available to build an ensemble from\n",
            "[WARNING] [2022-10-28 02:30:03,991:Client-EnsembleBuilder] No runs were available to build an ensemble from\n"
          ]
        },
        {
          "output_type": "execute_result",
          "data": {
            "text/plain": [
              "AutoSklearnRegressor(ensemble_class=<class 'autosklearn.ensembles.ensemble_selection.EnsembleSelection'>,\n",
              "                     per_run_time_limit=30, time_left_for_this_task=120,\n",
              "                     tmp_folder='./whatever')"
            ]
          },
          "metadata": {},
          "execution_count": 47
        }
      ],
      "source": [
        "X = X.astype(np.float32)\n",
        "n_test = 5000\n",
        "n_train = len(df)-2*n_test\n",
        "X_train, y_train = X[:n_train], y[:n_train]\n",
        "X_test, y_test = X[n_train:(n_train+n_test)], y[n_train:(n_train+n_test)]\n",
        "X_val, y_val = X[(n_train+n_test):], y[(n_train+n_test):]\n",
        "\n",
        "\n",
        "scales = np.logspace(start=0.01, stop=2.0, num=50)\n",
        "X_copies = [ sc*X_train for sc in scales ]\n",
        "y_copies = [ sc*y_train for sc in scales ]\n",
        "X_rep = np.concatenate(X_copies, axis=0)\n",
        "y_rep = np.concatenate(y_copies, axis=0)\n",
        "\n",
        "automl = autosklearn.regression.AutoSklearnRegressor(\n",
        "    time_left_for_this_task=120,\n",
        "    per_run_time_limit=30,\n",
        "    tmp_folder=\"./whatever\",\n",
        ")\n",
        "automl.fit(X_train, y_train, dataset_name=\"sarima\")"
      ]
    },
    {
      "cell_type": "code",
      "source": [
        "print(automl.leaderboard())"
      ],
      "metadata": {
        "colab": {
          "base_uri": "https://localhost:8080/"
        },
        "id": "XgUZgNNl-rWu",
        "outputId": "75231eaf-b7c7-4304-efd2-9cb08547adea"
      },
      "execution_count": 44,
      "outputs": [
        {
          "output_type": "stream",
          "name": "stdout",
          "text": [
            "          rank  ensemble_weight            type      cost   duration\n",
            "model_id                                                            \n",
            "4            1             0.92  ard_regression  0.150931   5.035277\n",
            "6            2             0.08             mlp  0.155424  25.223290\n"
          ]
        }
      ]
    },
    {
      "cell_type": "code",
      "source": [
        "train_predictions = automl.predict(X_train)\n",
        "test_predictions = automl.predict(X_test)\n",
        "val_predictions = automl.predict(X_val)\n",
        "\n",
        "print(\"Train R2 score:\", sklearn.metrics.r2_score(y_train, train_predictions))\n",
        "print(\"Test R2 score:\", sklearn.metrics.r2_score(y_test, test_predictions))\n",
        "print(\"Test R2 score:\", sklearn.metrics.r2_score(y_val, val_predictions))\n",
        "print(\"Train MSE score:\", sklearn.metrics.mean_squared_error(y_train, train_predictions))\n",
        "print(\"Test MSE score:\", sklearn.metrics.mean_squared_error(y_test, test_predictions))\n",
        "print(\"Val MSE score:\", sklearn.metrics.mean_squared_error(y_val, val_predictions))\n",
        "print('Val MSE relative to last value:',sklearn.metrics.mean_squared_error(y_val, val_predictions)/sklearn.metrics.mean_squared_error(y_val, np.zeros_like(y_val)))\n"
      ],
      "metadata": {
        "colab": {
          "base_uri": "https://localhost:8080/"
        },
        "id": "hiufdzaU_1Pa",
        "outputId": "86208742-2258-4ebd-9652-7eee53221baa"
      },
      "execution_count": 50,
      "outputs": [
        {
          "output_type": "stream",
          "name": "stdout",
          "text": [
            "Train R2 score: 0.8584852612130593\n",
            "Test R2 score: 0.843011007512966\n",
            "Test R2 score: 0.8385386313359304\n",
            "Train MSE score: 0.0007177378413273061\n",
            "Test MSE score: 0.0008462032306309375\n",
            "Val MSE score: 0.0008138129115790806\n",
            "Val MSE relative to last value: 0.16145091345537432\n"
          ]
        }
      ]
    },
    {
      "cell_type": "code",
      "source": [
        "import matplotlib.pyplot as plt\n",
        "some = 100\n",
        "plt.scatter(train_predictions[:some], y_train[:some], label=\"Train samples\", c=\"#d95f02\")\n",
        "plt.scatter(test_predictions[:some], y_test[:some], label=\"Test samples\", c=\"#7570b3\")\n",
        "plt.scatter(val_predictions[:some], y_val[:some], label=\"Val samples\", c=\"green\")\n",
        "plt.xlabel(\"Predicted value\")\n",
        "plt.ylabel(\"True value\")\n",
        "plt.legend()\n",
        "plt.plot([-0.25, 0.25], [-0.25, 0.25], c=\"k\", zorder=0)\n",
        "plt.xlim([-0.25, 0.25])\n",
        "plt.ylim([-0.25, 0.25])\n",
        "plt.tight_layout()\n",
        "plt.show()"
      ],
      "metadata": {
        "colab": {
          "base_uri": "https://localhost:8080/",
          "height": 297
        },
        "id": "nShN41VtFEyL",
        "outputId": "17edfa17-40b3-405b-81bb-d9d7df2ae537"
      },
      "execution_count": 48,
      "outputs": [
        {
          "output_type": "display_data",
          "data": {
            "text/plain": [
              "<Figure size 432x288 with 1 Axes>"
            ],
            "image/png": "[encoded data removed]"
          },
          "metadata": {
            "needs_background": "light"
          }
        }
      ]
    },
    {
      "cell_type": "markdown",
      "source": [
        "### MLP"
      ],
      "metadata": {
        "id": "uOhA7TvFbYZe"
      }
    },
    {
      "cell_type": "code",
      "source": [
        "from sklearn.neural_network import MLPRegressor\n",
        "from sklearn.model_selection import train_test_split\n",
        "regr = MLPRegressor(random_state=1, max_iter=50000, activation='tanh',\n",
        "                    hidden_layer_sizes=(50,50,50,50,50,50)).fit(X_train, y_train)\n",
        "\n",
        "train_predictions = regr.predict(X_train)\n",
        "test_predictions = regr.predict(X_test)\n",
        "val_predictions = regr.predict(X_val)\n",
        "\n",
        "print(\"Train R2 score:\", sklearn.metrics.r2_score(y_train, train_predictions))\n",
        "print(\"Test R2 score:\", sklearn.metrics.r2_score(y_test, test_predictions))\n",
        "print(\"Test R2 score:\", sklearn.metrics.r2_score(y_val, val_predictions))\n",
        "print(\"Train MSE score:\", sklearn.metrics.mean_squared_error(y_train, train_predictions))\n",
        "print(\"Test MSE score:\", sklearn.metrics.mean_squared_error(y_test, test_predictions))\n",
        "print(\"Val MSE score:\", sklearn.metrics.mean_squared_error(y_val, val_predictions))\n",
        "print('Val MSE relative to last value:',sklearn.metrics.mean_squared_error(y_val, val_predictions)/sklearn.metrics.mean_squared_error(y_val, np.zeros_like(y_val)))\n"
      ],
      "metadata": {
        "id": "oDnIfYqDbaOA",
        "outputId": "2285beca-43d8-4bc8-9ca5-4717d0645475",
        "colab": {
          "base_uri": "https://localhost:8080/"
        }
      },
      "execution_count": 59,
      "outputs": [
        {
          "output_type": "stream",
          "name": "stdout",
          "text": [
            "Train R2 score: 0.8249426383493642\n",
            "Test R2 score: 0.8184281399242912\n",
            "Test R2 score: 0.8151273891311552\n",
            "Train MSE score: 0.0008878601192823298\n",
            "Test MSE score: 0.0009787099856725515\n",
            "Val MSE score: 0.0009318124760568894\n",
            "Val MSE relative to last value: 0.18486063969738334\n"
          ]
        }
      ]
    }
  ],
  "metadata": {
    "colab": {
      "provenance": [],
      "machine_shape": "hm",
      "authorship_tag": "ABX9TyPMgTAYiuMD6RRttKtxirLg",
      "include_colab_link": true
    },
    "kernelspec": {
      "display_name": "Python 3",
      "name": "python3"
    },
    "language_info": {
      "name": "python"
    }
  },
  "nbformat": 4,
  "nbformat_minor": 0
}