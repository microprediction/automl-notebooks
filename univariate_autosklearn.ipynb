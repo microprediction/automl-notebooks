{
  "cells": [
    {
      "cell_type": "markdown",
      "metadata": {
        "id": "view-in-github",
        "colab_type": "text"
      },
      "source": [
        "<a href=\"https://colab.research.google.com/github/microprediction/automl-notebooks/blob/main/univariate_autosklearn.ipynb\" target=\"_parent\"><img src=\"https://colab.research.google.com/assets/colab-badge.svg\" alt=\"Open In Colab\"/></a>"
      ]
    },
    {
      "cell_type": "code",
      "execution_count": null,
      "metadata": {
        "id": "UyR3ra6MmjI4"
      },
      "outputs": [],
      "source": [
        "!pip uninstall numpy -y"
      ]
    },
    {
      "cell_type": "code",
      "source": [
        "!pip install auto-sklearn\n",
        "!pip install --upgrade pandas "
      ],
      "metadata": {
        "id": "Dnh9Fl0E9UgT"
      },
      "execution_count": null,
      "outputs": []
    },
    {
      "cell_type": "code",
      "source": [
        "import pandas as pd \n",
        "import numpy as np \n",
        "from pprint import pprint\n",
        "import sklearn.metrics\n",
        "import autosklearn.regression\n",
        "import matplotlib.pyplot as plt\n",
        "from sklearn.utils import shuffle\n",
        "import numpy as np\n",
        "from pprint import pprint"
      ],
      "metadata": {
        "id": "kTIRcyPl-z2W"
      },
      "execution_count": 8,
      "outputs": []
    },
    {
      "cell_type": "markdown",
      "metadata": {
        "id": "bBRDG2Xfq0i4"
      },
      "source": [
        "# Data to fit "
      ]
    },
    {
      "cell_type": "code",
      "execution_count": 20,
      "metadata": {
        "colab": {
          "base_uri": "https://localhost:8080/"
        },
        "id": "e9y5FcAam12L",
        "outputId": "b292da86-716e-457a-b8f5-1102ebdd45af"
      },
      "outputs": [
        {
          "output_type": "execute_result",
          "data": {
            "text/plain": [
              "(array([[ 0.0365374 ,  0.03573352,  0.04829583,  0.02249417],\n",
              "        [ 0.0175058 , -0.01363301, -0.01982509,  0.02370967]]),\n",
              " array([ 0.0621914 , -0.06293862]),\n",
              " 10000,\n",
              " (10000, 20))"
            ]
          },
          "metadata": {},
          "execution_count": 20
        }
      ],
      "source": [
        "df = pd.read_csv('https://raw.githubusercontent.com/microprediction/schooled/main/data/sarima/sk_autoarima/train_1.csv',header=None)\n",
        "last_col = df.columns[-1]\n",
        "SCALE = 0.1\n",
        "SEQ_LEN = 20\n",
        "y = (df[last_col].values-X[:,-1])*SCALE\n",
        "del df[last_col]\n",
        "X = df.values[:,-SEQ_LEN:]*SCALE\n",
        "X[:2,:4],y[:2], len(y), np.shape(X) "
      ]
    },
    {
      "cell_type": "code",
      "execution_count": 21,
      "metadata": {
        "colab": {
          "base_uri": "https://localhost:8080/"
        },
        "id": "VU0gkfsFpgYv",
        "outputId": "d15ceb68-6fd5-447c-a335-491148cb286b"
      },
      "outputs": [
        {
          "output_type": "execute_result",
          "data": {
            "text/plain": [
              "(0.5205376010401225,\n",
              " -0.4754179469018258,\n",
              " False,\n",
              " 0.4771887771923248,\n",
              " -0.3983964988067798)"
            ]
          },
          "metadata": {},
          "execution_count": 21
        }
      ],
      "source": [
        "import numpy as np\n",
        "np.max(X), np.min(X), np.any(np.isnan(X)), np.max(y),np.min(y)"
      ]
    },
    {
      "cell_type": "code",
      "execution_count": null,
      "metadata": {
        "id": "OmvWCQShmwpJ"
      },
      "outputs": [],
      "source": [
        "X = X.astype(np.float32)\n",
        "n_train = 5000\n",
        "n_test = 4000\n",
        "X_train, y_train = X[:n_train], y[:n_train]\n",
        "X_test, y_test = X[n_train:(n_train+n_test)], y[n_train:(n_train+n_test)]\n",
        "X_val, y_val = X[(n_train+n_test):], y[(n_train+n_test):]\n",
        "\n",
        "automl = autosklearn.regression.AutoSklearnRegressor(\n",
        "    time_left_for_this_task=120,\n",
        "    per_run_time_limit=30,\n",
        "    tmp_folder=\"./tmp\",\n",
        ")\n",
        "automl.fit(X_train, y_train, dataset_name=\"diabetes\")"
      ]
    },
    {
      "cell_type": "code",
      "source": [
        "print(automl.leaderboard())"
      ],
      "metadata": {
        "colab": {
          "base_uri": "https://localhost:8080/"
        },
        "id": "XgUZgNNl-rWu",
        "outputId": "4c57e9fe-80db-4c1e-a32a-6c3cdb8bcc33"
      },
      "execution_count": 23,
      "outputs": [
        {
          "output_type": "stream",
          "name": "stdout",
          "text": [
            "          rank  ensemble_weight               type      cost  duration\n",
            "model_id                                                              \n",
            "15           1             0.72      liblinear_svr  0.024409  0.787402\n",
            "11           2             0.06   gaussian_process  0.034652  2.157531\n",
            "13           3             0.22  gradient_boosting  0.058039  1.923061\n"
          ]
        }
      ]
    },
    {
      "cell_type": "code",
      "source": [
        "train_predictions = automl.predict(X_train)\n",
        "print(\"Train R2 score:\", sklearn.metrics.r2_score(y_train, train_predictions))\n",
        "test_predictions = automl.predict(X_test)\n",
        "print(\"Test R2 score:\", sklearn.metrics.r2_score(y_test, test_predictions))\n",
        "val_predictions = automl.predict(X_val)\n",
        "print(\"Test R2 score:\", sklearn.metrics.r2_score(y_val, val_predictions))\n",
        "train_predictions = automl.predict(X_train)\n",
        "print(\"Train MSE score:\", sklearn.metrics.mean_squared_error(y_train, train_predictions))\n",
        "test_predictions = automl.predict(X_test)\n",
        "print(\"Test MSE score:\", sklearn.metrics.mean_squared_error(y_test, test_predictions))\n",
        "val_predictions = automl.predict(X_val)\n",
        "print(\"Val MSE score:\", sklearn.metrics.mean_squared_error(y_val, val_predictions))\n",
        "\n",
        "\n",
        "print('Val MSE relative to last value:',sklearn.metrics.mean_squared_error(y_val, val_predictions)/sklearn.metrics.mean_squared_error(y_val, X_val[:,-1]))\n"
      ],
      "metadata": {
        "id": "hiufdzaU_1Pa",
        "outputId": "7d8eeeb9-5b53-4951-97fc-a0593eb88a65",
        "colab": {
          "base_uri": "https://localhost:8080/"
        }
      },
      "execution_count": 24,
      "outputs": [
        {
          "output_type": "stream",
          "name": "stdout",
          "text": [
            "Train R2 score: 0.9832637964122715\n",
            "Test R2 score: 0.9618754229277182\n",
            "Test R2 score: 0.9667491724264394\n",
            "Train MSE score: 7.713655876562375e-05\n",
            "Test MSE score: 0.00019537754469009904\n",
            "Val MSE score: 0.00017328048512845487\n",
            "Val MSE relative to last value: 0.6469804324263251\n"
          ]
        }
      ]
    }
  ],
  "metadata": {
    "colab": {
      "provenance": [],
      "machine_shape": "hm",
      "authorship_tag": "ABX9TyODURnGjR6+C/OaJIHXhQdh",
      "include_colab_link": true
    },
    "kernelspec": {
      "display_name": "Python 3",
      "name": "python3"
    },
    "language_info": {
      "name": "python"
    }
  },
  "nbformat": 4,
  "nbformat_minor": 0
}