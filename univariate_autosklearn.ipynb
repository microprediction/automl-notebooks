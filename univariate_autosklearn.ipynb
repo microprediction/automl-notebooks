{
  "cells": [
    {
      "cell_type": "markdown",
      "metadata": {
        "id": "view-in-github",
        "colab_type": "text"
      },
      "source": [
        "<a href=\"https://colab.research.google.com/github/microprediction/automl-notebooks/blob/main/univariate_autosklearn.ipynb\" target=\"_parent\"><img src=\"https://colab.research.google.com/assets/colab-badge.svg\" alt=\"Open In Colab\"/></a>"
      ]
    },
    {
      "cell_type": "code",
      "execution_count": 1,
      "metadata": {
        "id": "UyR3ra6MmjI4",
        "outputId": "c26fe4a5-367e-48be-9a14-e84e59de5e7b",
        "colab": {
          "base_uri": "https://localhost:8080/"
        }
      },
      "outputs": [
        {
          "output_type": "stream",
          "name": "stdout",
          "text": [
            "Found existing installation: numpy 1.21.6\n",
            "Uninstalling numpy-1.21.6:\n",
            "  Successfully uninstalled numpy-1.21.6\n"
          ]
        }
      ],
      "source": [
        "!pip uninstall numpy -y"
      ]
    },
    {
      "cell_type": "code",
      "source": [
        "!pip install auto-sklearn\n",
        "!pip install --upgrade pandas "
      ],
      "metadata": {
        "id": "Dnh9Fl0E9UgT"
      },
      "execution_count": null,
      "outputs": []
    },
    {
      "cell_type": "code",
      "source": [
        "import pandas as pd \n",
        "import numpy as np \n",
        "from pprint import pprint\n",
        "import sklearn.metrics\n",
        "import autosklearn.regression\n",
        "import matplotlib.pyplot as plt\n",
        "from sklearn.utils import shuffle\n",
        "import numpy as np\n",
        "from pprint import pprint"
      ],
      "metadata": {
        "id": "kTIRcyPl-z2W"
      },
      "execution_count": 1,
      "outputs": []
    },
    {
      "cell_type": "markdown",
      "metadata": {
        "id": "bBRDG2Xfq0i4"
      },
      "source": [
        "# Data to fit "
      ]
    },
    {
      "cell_type": "code",
      "execution_count": 16,
      "metadata": {
        "id": "e9y5FcAam12L"
      },
      "outputs": [],
      "source": [
        "url = 'https://github.com/microprediction/schooled/blob/main/localoutput/sarima/output/massaged.csv?raw=true'\n",
        "df = pd.read_csv(url)\n",
        "df.rename(inplace=True,columns={'y_next':'x'})"
      ]
    },
    {
      "cell_type": "code",
      "source": [
        "x_cols = [ c for c in df.columns if 'y_' in c ]\n",
        "assert 'x' not in x_cols \n",
        "y = df['wiggly'].values   # <--- Model we want surrogate for\n",
        "X = df[x_cols].values\n",
        "z = df['x'].values        # <--- The target (next value in the series)\n",
        "y1 = 0.9*y + 0.1*z        # <--- Train on combination of model and target, maybe"
      ],
      "metadata": {
        "id": "eTuVslnqQvvV"
      },
      "execution_count": 25,
      "outputs": []
    },
    {
      "cell_type": "code",
      "execution_count": 26,
      "metadata": {
        "colab": {
          "base_uri": "https://localhost:8080/"
        },
        "id": "OmvWCQShmwpJ",
        "outputId": "42f13f38-5f56-480a-eb41-ff526fd80deb"
      },
      "outputs": [
        {
          "output_type": "stream",
          "name": "stdout",
          "text": [
            "[WARNING] [2022-10-28 21:11:54,454:Client-EnsembleBuilder] No runs were available to build an ensemble from\n",
            "[WARNING] [2022-10-28 21:12:25,600:Client-EnsembleBuilder] No runs were available to build an ensemble from\n"
          ]
        },
        {
          "output_type": "execute_result",
          "data": {
            "text/plain": [
              "AutoSklearnRegressor(ensemble_class=<class 'autosklearn.ensembles.ensemble_selection.EnsembleSelection'>,\n",
              "                     per_run_time_limit=30, time_left_for_this_task=120,\n",
              "                     tmp_folder='./tmp')"
            ]
          },
          "metadata": {},
          "execution_count": 26
        }
      ],
      "source": [
        "X = X.astype(np.float32)\n",
        "n_test = 5000\n",
        "n_train = len(df)-2*n_test\n",
        "X_train, y_train, z_train = X[:n_train], y1[:n_train], z[:n_train]\n",
        "X_test, y_test, z_test = X[n_train:(n_train+n_test)], y1[n_train:(n_train+n_test)], z[n_train:(n_train+n_test)]\n",
        "X_val, y_val, z_val = X[(n_train+n_test):], y1[(n_train+n_test):], z[(n_train+n_test):]\n",
        "\n",
        "automl = autosklearn.regression.AutoSklearnRegressor(\n",
        "    time_left_for_this_task=120,\n",
        "    per_run_time_limit=30,\n",
        "    tmp_folder=\"./tmp\",\n",
        ")\n",
        "automl.fit(X_train, y_train, dataset_name=\"sarima\")"
      ]
    },
    {
      "cell_type": "code",
      "source": [
        "print(automl.leaderboard())"
      ],
      "metadata": {
        "colab": {
          "base_uri": "https://localhost:8080/"
        },
        "id": "XgUZgNNl-rWu",
        "outputId": "f3afc2e2-0a08-4a71-b089-0f7740ee095e"
      },
      "execution_count": 27,
      "outputs": [
        {
          "output_type": "stream",
          "name": "stdout",
          "text": [
            "          rank  ensemble_weight            type      cost   duration\n",
            "model_id                                                            \n",
            "5            1             0.74  ard_regression  0.003239   8.275779\n",
            "6            2             0.26             mlp  0.003826  28.329997\n"
          ]
        }
      ]
    },
    {
      "cell_type": "code",
      "source": [
        "y_train_hat = automl.predict(X_train)\n",
        "y_test_hat = automl.predict(X_test)\n",
        "y_val_hat = automl.predict(X_val)\n",
        "\n",
        "print(\"Train surrogate R2 score:\", sklearn.metrics.r2_score(y_train, y_train_hat))\n",
        "print(\"Test surrogate R2 score:\", sklearn.metrics.r2_score(y_test, y_test_hat))\n",
        "print(\"Test surrogate R2 score:\", sklearn.metrics.r2_score(y_val, y_val_hat))\n",
        "print(\"Train surrogate MSE score:\", sklearn.metrics.mean_squared_error(y_train, y_train_hat))\n",
        "print(\"Test surrogate MSE score:\", sklearn.metrics.mean_squared_error(y_test, y_test_hat))\n",
        "print(\"Val surrogate MSE score:\", sklearn.metrics.mean_squared_error(y_val, y_val_hat))\n",
        "\n",
        "print(\"Val model error:\", sklearn.metrics.mean_squared_error(y_val, z_val))\n",
        "print('Val MSE relative to last value:',sklearn.metrics.mean_squared_error(y_val, y_val_hat)/sklearn.metrics.mean_squared_error(y_val, np.zeros_like(y_val)))\n",
        "# How does surrogate error compare to original?\n",
        "print('Val surrogate prediction error relative to model:',sklearn.metrics.mean_squared_error(z_val, y_val_hat)/sklearn.metrics.mean_squared_error(z_val, y_val))\n",
        "\n",
        "\n"
      ],
      "metadata": {
        "colab": {
          "base_uri": "https://localhost:8080/"
        },
        "id": "hiufdzaU_1Pa",
        "outputId": "dbd69256-f2c2-4d7e-8b9e-9d69e42bad96"
      },
      "execution_count": 28,
      "outputs": [
        {
          "output_type": "stream",
          "name": "stdout",
          "text": [
            "Train surrogate R2 score: 0.9968591344316055\n",
            "Test surrogate R2 score: 0.9967719876206265\n",
            "Test surrogate R2 score: 0.9965788060787097\n",
            "Train surrogate MSE score: 0.0043201553211221376\n",
            "Test surrogate MSE score: 0.00434235987233904\n",
            "Val surrogate MSE score: 0.004682253427737463\n",
            "Val model error: 0.03238237682974857\n",
            "Val MSE relative to last value: 0.003420911512990482\n",
            "Val surrogate prediction error relative to model: 1.0884180343841463\n"
          ]
        }
      ]
    },
    {
      "cell_type": "code",
      "source": [
        "import matplotlib.pyplot as plt\n",
        "plt.scatter(train_predictions, y_train, label=\"Train samples\", c=\"#d95f02\")\n",
        "plt.scatter(test_predictions, y_test, label=\"Test samples\", c=\"#7570b3\")\n",
        "plt.scatter(val_predictions, y_val, label=\"Val samples\", c=\"green\")\n",
        "plt.xlabel(\"Predicted value\")\n",
        "plt.ylabel(\"True value\")\n",
        "plt.legend()\n",
        "plt.plot([-0.25, 0.25], [-0.25, 0.25], c=\"k\", zorder=0)\n",
        "plt.xlim([-0.25, 0.25])\n",
        "plt.ylim([-0.25, 0.25])\n",
        "plt.tight_layout()\n",
        "plt.show()"
      ],
      "metadata": {
        "colab": {
          "base_uri": "https://localhost:8080/",
          "height": 297
        },
        "id": "nShN41VtFEyL",
        "outputId": "839149a9-fc7e-46bd-a4ad-fe9a05a21355"
      },
      "execution_count": null,
      "outputs": [
        {
          "output_type": "display_data",
          "data": {
            "text/plain": [
              "<Figure size 432x288 with 1 Axes>"
            ],
            "image/png": "[encoded data removed]"
          },
          "metadata": {
            "needs_background": "light"
          }
        }
      ]
    }
  ],
  "metadata": {
    "colab": {
      "provenance": [],
      "machine_shape": "hm",
      "authorship_tag": "ABX9TyMB89Y+WB61bcSKlqzgq9R0",
      "include_colab_link": true
    },
    "kernelspec": {
      "display_name": "Python 3",
      "name": "python3"
    },
    "language_info": {
      "name": "python"
    }
  },
  "nbformat": 4,
  "nbformat_minor": 0
}